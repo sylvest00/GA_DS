{
 "cells": [
  {
   "cell_type": "markdown",
   "metadata": {},
   "source": [
    "# Project 1: Research Design Write-Up\n",
    "## Admissions Dataset\n",
    "## Due Date: Lesson 5, September 17, 2016"
   ]
  },
  {
   "cell_type": "markdown",
   "metadata": {},
   "source": [
    "### Read and evaluate the following problem statement: \n",
    "Determine which free-tier customers will covert to paying customers, using demographic data collected at signup (age, gender, location, and profession) and customer useage data (days since last log in, and activity score 1 = active user, 0= inactive user) based on Hooli data from Jan-Apr 2015. "
   ]
  },
  {
   "cell_type": "markdown",
   "metadata": {},
   "source": [
    "#### 1. What is the outcome?"
   ]
  },
  {
   "cell_type": "markdown",
   "metadata": {},
   "source": [
    "Answer: The outcome is a list of free-tier customers who convert to paying customers."
   ]
  },
  {
   "cell_type": "markdown",
   "metadata": {},
   "source": [
    "#### 2. What are the predictors/covariates? "
   ]
  },
  {
   "cell_type": "markdown",
   "metadata": {},
   "source": [
    "Answer: The predictors includes demographic data that was obtained when the user signedup, and the usage data of each customer."
   ]
  },
  {
   "cell_type": "markdown",
   "metadata": {},
   "source": [
    "#### 3. What timeframe is this data relevent for?"
   ]
  },
  {
   "cell_type": "markdown",
   "metadata": {},
   "source": [
    "Answer: The time frame is January 2015 to April 2015."
   ]
  },
  {
   "cell_type": "markdown",
   "metadata": {},
   "source": [
    "#### 4. What is the hypothesis?"
   ]
  },
  {
   "cell_type": "markdown",
   "metadata": {},
   "source": [
    "Answer: From the problem statement, one can infer that a business owner would like to know what factors (demographics and usage) would serve as the best predictors for customer tier conversion. One may hypothesize that a customer who uses the site frequently would more than likely convert to a paid tier than one who does not. Also, one could postulate that professionals (wealth implied) would convert more often than those in other vocations."
   ]
  },
  {
   "cell_type": "markdown",
   "metadata": {},
   "source": [
    "## Let's get started with our dataset"
   ]
  },
  {
   "cell_type": "markdown",
   "metadata": {},
   "source": [
    "#### 1. Create a data dictionary "
   ]
  },
  {
   "cell_type": "markdown",
   "metadata": {},
   "source": [
    "Answer: \n",
    "\n",
    "Variable | Description | Type of Variable\n",
    "---| ---| ---\n",
    "admit | admitted, yes (1) or no (0)  | categorical (binary)\n",
    "gre | GRE score | continuous\n",
    "gpa | Grade point average | continuous \n",
    "prestige | Tier of the previous school | categorical"
   ]
  },
  {
   "cell_type": "markdown",
   "metadata": {},
   "source": [
    "We would like to explore the association between X and Y "
   ]
  },
  {
   "cell_type": "markdown",
   "metadata": {},
   "source": [
    "#### 2. What is the outcome?"
   ]
  },
  {
   "cell_type": "markdown",
   "metadata": {},
   "source": [
    "Answer: The outcome is the acceptance (1) or rejection (0) of a student to a graduate program."
   ]
  },
  {
   "cell_type": "markdown",
   "metadata": {},
   "source": [
    "#### 3. What are the predictors/covariates? "
   ]
  },
  {
   "cell_type": "markdown",
   "metadata": {},
   "source": [
    "Answer:  The predictors in this data set are the grade point average (GPA), GRE score, and prestige of the student's undergraduate school."
   ]
  },
  {
   "cell_type": "markdown",
   "metadata": {},
   "source": [
    "#### 4. What timeframe is this data relevent for?"
   ]
  },
  {
   "cell_type": "markdown",
   "metadata": {},
   "source": [
    "Answer: This data refers to information provided by the student for an application. Per UCLA's \"Logistic Regression in R\" website (http://www.ats.ucla.edu/stat/r/dae/logit.htm), the data set is hypothetical. Within both contexts, the data is cross sectional since it provides a snapshot of an applicant pool for one application cycle."
   ]
  },
  {
   "cell_type": "markdown",
   "metadata": {},
   "source": [
    "#### 4. What is the hypothesis?"
   ]
  },
  {
   "cell_type": "markdown",
   "metadata": {},
   "source": [
    "Answer: Those admitted tend to have high GRE scores, high GPAs, and come from prestigious schools."
   ]
  },
  {
   "cell_type": "markdown",
   "metadata": {},
   "source": [
    "## Problem Statement"
   ]
  },
  {
   "cell_type": "markdown",
   "metadata": {},
   "source": [
    "### Exploratory Analysis Plan"
   ]
  },
  {
   "cell_type": "markdown",
   "metadata": {},
   "source": [
    "Using the lab from a class as a guide, create an exploratory analysis plan. "
   ]
  },
  {
   "cell_type": "markdown",
   "metadata": {},
   "source": [
    "#### 1. What are the goals of the exploratory analysis? "
   ]
  },
  {
   "cell_type": "markdown",
   "metadata": {
    "collapsed": true
   },
   "source": [
    "Answer: The goals of exploratory analysis is to summarize key features of the data set using descriptive statistics and graphs before advanced statistical and modeling techniques are used. The exploratory analysis phase of a project identifies properties of the data set that will be used in a predictive model."
   ]
  },
  {
   "cell_type": "markdown",
   "metadata": {},
   "source": [
    "#### 2a. What are the assumptions of the distribution of data? "
   ]
  },
  {
   "cell_type": "markdown",
   "metadata": {},
   "source": [
    "Answer: Some common assumptions of large data sets includes the continuity of non-categorical variables and normality of the distribution (assumed under the central limit theorem). From the normality assumption, one can hypothesize the skewness and kurtosis of a distribution."
   ]
  },
  {
   "cell_type": "markdown",
   "metadata": {},
   "source": [
    "#### 2b. How will determine the distribution of your data? "
   ]
  },
  {
   "cell_type": "markdown",
   "metadata": {
    "collapsed": true
   },
   "source": [
    "Answer: The distribution can be determined using statistical tests such as the a two-sample Kolmogorov-Smirnov (ks) test between the predictor's distribution and a normal distribution with a mean equal to that of the predictor. Other characterisitics of normality (or lack thereof) can be interpreted from the mean, median, and mode of the predictor's distribution and via functions (e.g. stats.kurtosis, stats.skew, and kstest) in Python.\n",
    "\n",
    "(See appendix below)"
   ]
  },
  {
   "cell_type": "markdown",
   "metadata": {},
   "source": [
    "#### 3a. How might outliers impact your analysis? "
   ]
  },
  {
   "cell_type": "markdown",
   "metadata": {
    "collapsed": true
   },
   "source": [
    "Answer: Outliers may skew the distribution of the data. As a consequence, the variance would be high and the \"true\" mean of the distribution will be shifted towards the outliers."
   ]
  },
  {
   "cell_type": "markdown",
   "metadata": {},
   "source": [
    "#### 3b. How will you test for outliers? "
   ]
  },
  {
   "cell_type": "markdown",
   "metadata": {},
   "source": [
    "Answer: The presence of outliers can be confirmed by interquartile ranges (IQR). A value is considered an outlier if it is 1.5xIQR below the first quartile or 1.5xIQR above the third quartile. Outliers can be visually assessed via boxplots.\n",
    "\n",
    "(See appendix below)"
   ]
  },
  {
   "cell_type": "markdown",
   "metadata": {},
   "source": [
    "#### 4a. What is colinearity? "
   ]
  },
  {
   "cell_type": "markdown",
   "metadata": {
    "collapsed": true
   },
   "source": [
    "Answer: Colinearity occurs when two or more variables are highly correlated. The outcome of one variable can be predicted in a linear manner from another variable."
   ]
  },
  {
   "cell_type": "markdown",
   "metadata": {},
   "source": [
    "#### 4b. How will you test for colinearity? "
   ]
  },
  {
   "cell_type": "markdown",
   "metadata": {},
   "source": [
    "Answer: Colinearity can be tested by measuring the covarience or correlation coefficients between variables. Also, one could examine the goodness of fit following linear regression using the variables.\n",
    "\n",
    "(See appendix below)"
   ]
  },
  {
   "cell_type": "markdown",
   "metadata": {},
   "source": [
    "#### 5. What is your exploratory analysis plan?\n",
    "Using the above information, write an exploratory analysis plan that would allow you or a colleague to reproduce your analysis 1 year from now. "
   ]
  },
  {
   "cell_type": "markdown",
   "metadata": {},
   "source": [
    "Answer: See appendix below"
   ]
  },
  {
   "cell_type": "markdown",
   "metadata": {},
   "source": [
    "## Bonus Questions:\n",
    "1. Outline your analysis method for predicting your outcome\n",
    "2. Write an alternative problem statement for your dataset\n",
    "3. Articulate the assumptions and risks of the alternative model"
   ]
  },
  {
   "cell_type": "markdown",
   "metadata": {
    "collapsed": true
   },
   "source": [
    "# Appendix\n",
    "\n",
    "This section includes the code that is neccessary to demonstrate some of the answers provided above.\n",
    "### Part I: Loading and cleaning data"
   ]
  },
  {
   "cell_type": "code",
   "execution_count": 168,
   "metadata": {
    "collapsed": false
   },
   "outputs": [
    {
     "name": "stdout",
     "output_type": "stream",
     "text": [
      "Number of rows: 400\n",
      "Number of columns: 4\n",
      "Column names: [admit, gre, gpa, prestige]\n",
      "   admit    gre   gpa  prestige\n",
      "0      0  380.0  3.61       3.0\n",
      "1      1  660.0  3.67       3.0\n",
      "2      1  800.0  4.00       1.0\n",
      "3      1  640.0  3.19       4.0\n",
      "4      0  520.0  2.93       4.0\n",
      "\n",
      "Data types of each column:\n",
      "admit         int64\n",
      "gre         float64\n",
      "gpa         float64\n",
      "prestige    float64\n",
      "dtype: object\n",
      "\n",
      "admit: 2 unique values and 0 NaNs\n",
      "gre: 27 unique values and 2 NaNs\n",
      "gpa: 133 unique values and 2 NaNs\n",
      "prestige: 5 unique values and 1 NaNs\n"
     ]
    }
   ],
   "source": [
    "#Import libraries\n",
    "import pandas as pd\n",
    "import numpy as np\n",
    "import seaborn as sb\n",
    "import matplotlib.pyplot as plt\n",
    "from scipy.stats import stats, levene, kstest, ks_2samp\n",
    "\n",
    "#Allow plots to appear inline with code\n",
    "%matplotlib inline\n",
    "\n",
    "#Read in CSV file\n",
    "admin = pd.read_csv('admissions.csv')\n",
    "\n",
    "#Find and store column names, store size of data set\n",
    "colNames = list(admin.columns.values)\n",
    "rows = admin.shape[0]\n",
    "cols = admin.shape[1]\n",
    "\n",
    "#Print data\n",
    "print 'Number of rows: ' + str(rows)\n",
    "print 'Number of columns: ' + str(cols)\n",
    "print 'Column names: ' + '[%s]' % ', '.join(map(str,colNames))\n",
    "\n",
    "#From looking at the top 5 entries, we see that all values are mostlikely numeric.\n",
    "#To confirm the above assumption:\n",
    "print admin.head()\n",
    "print '\\nData types of each column:\\n' + str(admin.dtypes) + '\\n'\n",
    "\n",
    "#Check for uniqueness of values in each column\n",
    "#See if any variables are categorical, continuous/ discrete\n",
    "for i in range(len(colNames)):\n",
    "    vals = admin[colNames[i]].unique()\n",
    "    numNans = admin[colNames[i]].isnull().sum()   \n",
    "    print colNames[i] + ': ' + str(len(vals)) + ' unique values and ' + str(numNans) + ' NaNs'"
   ]
  },
  {
   "cell_type": "markdown",
   "metadata": {},
   "source": [
    "#### Note: The data for a few applicants are not complete. Complete rows were used for the remainder of this document."
   ]
  },
  {
   "cell_type": "code",
   "execution_count": 169,
   "metadata": {
    "collapsed": false
   },
   "outputs": [
    {
     "name": "stdout",
     "output_type": "stream",
     "text": [
      "admit: 2 unique values and 0 NaNs\n",
      "gre: 26 unique values and 0 NaNs\n",
      "gpa: 131 unique values and 0 NaNs\n",
      "prestige: 4 unique values and 0 NaNs\n"
     ]
    }
   ],
   "source": [
    "#remove rows with NaN\n",
    "admin2 = admin.dropna()\n",
    "\n",
    "for i in range(len(colNames)):\n",
    "   vals = admin2[colNames[i]].unique()\n",
    "   numNans = admin2[colNames[i]].isnull().sum()\n",
    "   print colNames[i] + ': ' + str(len(vals)) + ' unique values and ' + str(numNans) + ' NaNs'"
   ]
  },
  {
   "cell_type": "markdown",
   "metadata": {},
   "source": [
    "From the project description and the code book found on the UCLA webpage, we know that column \"admit\" is categorical with only two possible values, \"prestige\" has 5 possible values, and \"gre\" and \"gpa\" are continuous variables that cover a spectrum of values within a set range. There are also missing values in all columns except \"admit\".\n",
    "\n",
    "In our case, \"admit\" is the outcome while the remaining three columns are predictors."
   ]
  },
  {
   "cell_type": "markdown",
   "metadata": {},
   "source": [
    "### Part II: Descriptive Statistics\n",
    "To get a feel for the data set, the mean, standard deviation, and quartiles were computed. I assumed there would be some relationship between the following variables and paired their analysis accordingly:\n",
    "- gpa, gre: Students with high GPAs tend to score well on the GREs.\n",
    "- gpa or gre, admit: Students with high GPAs or GREs are more likely to be admitted.\n",
    "- presitege, admit: Students from presitgious undergrads are more likely to be admitted.\n",
    "- gpa or gre, prestige: Students from prestigious undergrads are more likely to score well on the GREs and/ or have high GPAs."
   ]
  },
  {
   "cell_type": "markdown",
   "metadata": {},
   "source": [
    "Overall, the applicant pool had an average GPA that was above the national average of 3.11 (http://www.usatoday.com/story/news/nation/2013/11/21/college-grade-inflation-what-does-an-mean/3662003/). 25% of the GPAs were around the national average."
   ]
  },
  {
   "cell_type": "code",
   "execution_count": 170,
   "metadata": {
    "collapsed": false
   },
   "outputs": [
    {
     "name": "stdout",
     "output_type": "stream",
     "text": [
      "            admit         gre         gpa    prestige\n",
      "count  397.000000  397.000000  397.000000  397.000000\n",
      "mean     0.317380  587.858942    3.392242    2.488665\n",
      "std      0.466044  115.717787    0.380208    0.947083\n",
      "min      0.000000  220.000000    2.260000    1.000000\n",
      "25%      0.000000  520.000000    3.130000    2.000000\n",
      "50%      0.000000  580.000000    3.400000    2.000000\n",
      "75%      1.000000  660.000000    3.670000    3.000000\n",
      "max      1.000000  800.000000    4.000000    4.000000\n",
      "\n",
      "Mean GRE: 510.0\n",
      "Mean GPA: 3.13\n"
     ]
    }
   ],
   "source": [
    "print admin2.describe()\n",
    "print '\\nMean GRE: ' + str((admin2.gre.min() + admin2.gre.max())/2)\n",
    "print 'Mean GPA: ' + str((admin2.gpa.min() + admin2.gpa.max())/2)"
   ]
  },
  {
   "cell_type": "markdown",
   "metadata": {},
   "source": [
    "The average GRE of the admitted group was higher than that of the rejected group. A considerable portion (75%) of the GRE for both groups sits well below the max values which indicates the presence of an outlier. Both distributions are skewed towards the right (skewness measure < 0, per the documentation). As a consequence, these distributions are likely not normal.\n",
    "\n",
    "Also, a comparison between the average GRE score across the rank of the undergraduate institution of the students suggests a positive relationship between GRE score and school prestige (higher GRE score for more prestigious schools). The distributions for all ranks except the highest rank may be skewed (skewness measure != 0).\n",
    "\n",
    "(Below)"
   ]
  },
  {
   "cell_type": "code",
   "execution_count": 189,
   "metadata": {
    "collapsed": false
   },
   "outputs": [
    {
     "name": "stdout",
     "output_type": "stream",
     "text": [
      "admit       \n",
      "0      count    271.000000\n",
      "       mean     573.579336\n",
      "       std      116.052798\n",
      "       min      220.000000\n",
      "       25%      500.000000\n",
      "       50%      580.000000\n",
      "       75%      660.000000\n",
      "       max      800.000000\n",
      "1      count    126.000000\n",
      "       mean     618.571429\n",
      "       std      109.257233\n",
      "       min      300.000000\n",
      "       25%      540.000000\n",
      "       50%      620.000000\n",
      "       75%      680.000000\n",
      "       max      800.000000\n",
      "Name: gre, dtype: float64\n",
      "prestige       \n",
      "1.0       count     61.000000\n",
      "          mean     611.803279\n",
      "          std      120.242924\n",
      "          min      340.000000\n",
      "          25%      540.000000\n",
      "          50%      600.000000\n",
      "          75%      700.000000\n",
      "          max      800.000000\n",
      "2.0       count    148.000000\n",
      "          mean     596.621622\n",
      "          std      107.371528\n",
      "          min      300.000000\n",
      "          25%      520.000000\n",
      "          50%      600.000000\n",
      "          75%      665.000000\n",
      "          max      800.000000\n",
      "3.0       count    121.000000\n",
      "          mean     574.876033\n",
      "          std      121.148089\n",
      "          min      220.000000\n",
      "          25%      500.000000\n",
      "          50%      580.000000\n",
      "          75%      660.000000\n",
      "          max      800.000000\n",
      "4.0       count     67.000000\n",
      "          mean     570.149254\n",
      "          std      116.221999\n",
      "          min      300.000000\n",
      "          25%      500.000000\n",
      "          50%      560.000000\n",
      "          75%      660.000000\n",
      "          max      800.000000\n",
      "Name: gre, dtype: float64\n",
      "-0.510025611431\n",
      "-0.356635900689\n",
      "-0.364883271739\n",
      "-0.327055471444\n",
      "-0.0855833625783\n",
      "-0.533121444538\n",
      "-0.110273492204\n",
      "-0.167981728471\n"
     ]
    }
   ],
   "source": [
    "#Summary statistics\n",
    "print admin2.gre.groupby(admin2.admit).describe()\n",
    "print admin2.gre.groupby(admin2.prestige).describe()\n",
    "\n",
    "#Kurtosis measure\n",
    "print stats.kurtosis(admin2.gpa[admin2.admit == 0])\n",
    "print stats.kurtosis(admin2.gpa[admin2.admit == 1])\n",
    "print stats.kurtosis(admin2.gre[admin2.admit == 0])\n",
    "print stats.kurtosis(admin2.gre[admin2.admit == 1])\n",
    "\n",
    "#Skewness measure\n",
    "print stats.skew(admin2.gpa[admin2.admit == 0])\n",
    "print stats.skew(admin2.gpa[admin2.admit == 1])\n",
    "print stats.skew(admin2.gre[admin2.admit == 0])\n",
    "print stats.skew(admin2.gre[admin2.admit == 1])"
   ]
  },
  {
   "cell_type": "markdown",
   "metadata": {},
   "source": [
    "On average, the GPA of the admitted group was larger than that of the rejected group. There does not appear to be an obvious relationship between the prestige of the school and GPA."
   ]
  },
  {
   "cell_type": "code",
   "execution_count": 172,
   "metadata": {
    "collapsed": false
   },
   "outputs": [
    {
     "name": "stdout",
     "output_type": "stream",
     "text": [
      "admit       \n",
      "0      count    271.000000\n",
      "       mean       3.347159\n",
      "       std        0.376355\n",
      "       min        2.260000\n",
      "       25%        3.080000\n",
      "       50%        3.340000\n",
      "       75%        3.610000\n",
      "       max        4.000000\n",
      "1      count    126.000000\n",
      "       mean       3.489206\n",
      "       std        0.371655\n",
      "       min        2.420000\n",
      "       25%        3.220000\n",
      "       50%        3.545000\n",
      "       75%        3.757500\n",
      "       max        4.000000\n",
      "Name: gpa, dtype: float64\n",
      "prestige       \n",
      "1.0       count     61.000000\n",
      "          mean       3.453115\n",
      "          std        0.390698\n",
      "          min        2.420000\n",
      "          25%        3.200000\n",
      "          50%        3.530000\n",
      "          75%        3.730000\n",
      "          max        4.000000\n",
      "2.0       count    148.000000\n",
      "          mean       3.367365\n",
      "          std        0.375248\n",
      "          min        2.420000\n",
      "          25%        3.117500\n",
      "          50%        3.385000\n",
      "          75%        3.630000\n",
      "          max        4.000000\n",
      "3.0       count    121.000000\n",
      "          mean       3.432893\n",
      "          std        0.386502\n",
      "          min        2.560000\n",
      "          25%        3.150000\n",
      "          50%        3.430000\n",
      "          75%        3.760000\n",
      "          max        4.000000\n",
      "4.0       count     67.000000\n",
      "          mean       3.318358\n",
      "          std        0.360507\n",
      "          min        2.260000\n",
      "          25%        3.085000\n",
      "          50%        3.330000\n",
      "          75%        3.540000\n",
      "          max        4.000000\n",
      "Name: gpa, dtype: float64\n"
     ]
    }
   ],
   "source": [
    "print admin2.gpa.groupby(admin2.admit).describe()\n",
    "print admin2.gpa.groupby(admin2.prestige).describe()"
   ]
  },
  {
   "cell_type": "markdown",
   "metadata": {},
   "source": [
    "### Part III: Graphical Representation of Descriptive Statistics\n",
    "Boxplots were used to graphically summarize the findings in section 1. Swarm plots were added to help visualize the distribution of the data.\n",
    "\n",
    "There are very few outliers (with respect to the size of each group). As a result, the IQR outlier calculation was not performed."
   ]
  },
  {
   "cell_type": "code",
   "execution_count": 173,
   "metadata": {
    "collapsed": false
   },
   "outputs": [
    {
     "data": {
      "image/png": "[encoded data removed]",
      "text/plain": [
       "<matplotlib.figure.Figure at 0x11b283c8>"
      ]
     },
     "metadata": {},
     "output_type": "display_data"
    }
   ],
   "source": [
    "#Boxplot of GRE for the rejected and accepted groups\n",
    "p1 = sb.boxplot(y='gre',x='admit',data=admin2)\n",
    "p1 = sb.swarmplot(x='admit', y='gre', data=admin2, color=\".25\")"
   ]
  },
  {
   "cell_type": "code",
   "execution_count": 174,
   "metadata": {
    "collapsed": false
   },
   "outputs": [
    {
     "data": {
      "image/png": "[encoded data removed]",
      "text/plain": [
       "<matplotlib.figure.Figure at 0x11b408d0>"
      ]
     },
     "metadata": {},
     "output_type": "display_data"
    }
   ],
   "source": [
    "#Boxplot of GPA for the rejected and accepted groups\n",
    "p2 = sb.boxplot(y='gpa',x='admit',data=admin2)\n",
    "p2 = sb.swarmplot(x='admit', y='gpa', data=admin2, color=\".25\")"
   ]
  },
  {
   "cell_type": "code",
   "execution_count": 175,
   "metadata": {
    "collapsed": false
   },
   "outputs": [
    {
     "data": {
      "text/plain": [
       "<matplotlib.axes._subplots.AxesSubplot at 0x11f84b70>"
      ]
     },
     "execution_count": 175,
     "metadata": {},
     "output_type": "execute_result"
    },
    {
     "data": {
      "image/png": "[encoded data removed]",
      "text/plain": [
       "<matplotlib.figure.Figure at 0x11c587f0>"
      ]
     },
     "metadata": {},
     "output_type": "display_data"
    }
   ],
   "source": [
    "#Boxplot of GRE for each school rank\n",
    "sb.boxplot(y='gre',x='prestige',data=admin2,hue='admit',palette='Set3')"
   ]
  },
  {
   "cell_type": "code",
   "execution_count": 176,
   "metadata": {
    "collapsed": false
   },
   "outputs": [
    {
     "data": {
      "text/plain": [
       "<matplotlib.axes._subplots.AxesSubplot at 0x117f0ba8>"
      ]
     },
     "execution_count": 176,
     "metadata": {},
     "output_type": "execute_result"
    },
    {
     "data": {
      "image/png": "[encoded data removed]",
      "text/plain": [
       "<matplotlib.figure.Figure at 0x1215a358>"
      ]
     },
     "metadata": {},
     "output_type": "display_data"
    }
   ],
   "source": [
    "#Boxplot of GPA for each school rank\n",
    "sb.boxplot(y='gpa',x='prestige',data=admin2,hue='admit',palette='Set3')"
   ]
  },
  {
   "cell_type": "markdown",
   "metadata": {},
   "source": [
    "### PartIV: Statistical Significance\n",
    "Above, the data suggests there is a difference between the following variables:\n",
    "- The mean of 'gpa' for the rejected and admitted groups\n",
    "- The mean of 'gre' for the rejected and admitted groups\n",
    "- The mean of 'gre' across school rank for the admitted group"
   ]
  },
  {
   "cell_type": "code",
   "execution_count": 177,
   "metadata": {
    "collapsed": false
   },
   "outputs": [
    {
     "data": {
      "text/plain": [
       "<matplotlib.axes._subplots.AxesSubplot at 0xd365e80>"
      ]
     },
     "execution_count": 177,
     "metadata": {},
     "output_type": "execute_result"
    },
    {
     "data": {
      "image/png": "[encoded data removed]",
      "text/plain": [
       "<matplotlib.figure.Figure at 0xce05cc0>"
      ]
     },
     "metadata": {},
     "output_type": "display_data"
    }
   ],
   "source": [
    "sb.distplot(admin2.gpa[admin2.admit == 1])\n",
    "sb.distplot(admin2.gpa[admin2.admit == 0])"
   ]
  },
  {
   "cell_type": "code",
   "execution_count": 178,
   "metadata": {
    "collapsed": false
   },
   "outputs": [
    {
     "data": {
      "text/plain": [
       "<matplotlib.axes._subplots.AxesSubplot at 0x116629b0>"
      ]
     },
     "execution_count": 178,
     "metadata": {},
     "output_type": "execute_result"
    },
    {
     "data": {
      "image/png": "[encoded data removed]",
      "text/plain": [
       "<matplotlib.figure.Figure at 0xb6abda0>"
      ]
     },
     "metadata": {},
     "output_type": "display_data"
    }
   ],
   "source": [
    "sb.distplot(admin2.gre[admin2.admit == 1])\n",
    "sb.distplot(admin2.gre[admin2.admit == 0])"
   ]
  },
  {
   "cell_type": "markdown",
   "metadata": {},
   "source": [
    "Graphically, neither group appears to be normal (above). Statistically, the 'gre'/'gpa' variables are not normal (see below, p < 0.05). The kstest was used to determine if 'gre'/'gpa' and a normal distribution with the same statisitcs as 'gre'/'gpa' could be pulled from the same continuous distribution. The p-values are less than 0.05, so the null hypothesis (distributions are the same) was rejected (distributions are not normal)."
   ]
  },
  {
   "cell_type": "code",
   "execution_count": 190,
   "metadata": {
    "collapsed": false
   },
   "outputs": [
    {
     "name": "stdout",
     "output_type": "stream",
     "text": [
      "KstestResult(statistic=0.98854970954907739, pvalue=0.0)\n",
      "KstestResult(statistic=0.99223974644944635, pvalue=0.0)\n",
      "KstestResult(statistic=1.0, pvalue=0.0)\n",
      "KstestResult(statistic=1.0, pvalue=0.0)\n"
     ]
    }
   ],
   "source": [
    "print kstest(admin2.gpa[admin2.admit == 0],'norm')\n",
    "print kstest(admin2.gpa[admin2.admit == 1],'norm')\n",
    "print kstest(admin2.gre[admin2.admit == 0],'norm')\n",
    "print kstest(admin2.gre[admin2.admit == 1],'norm')"
   ]
  },
  {
   "cell_type": "markdown",
   "metadata": {},
   "source": [
    "Since the groups are not normal, I used the KS-test to determine if the 'gre' and 'gpa' distributions between the rejected and accepted groups were similar (null hypothesis: samples are pulled from the same distribution/ the distributions are similar)."
   ]
  },
  {
   "cell_type": "code",
   "execution_count": 180,
   "metadata": {
    "collapsed": false
   },
   "outputs": [
    {
     "name": "stdout",
     "output_type": "stream",
     "text": [
      "Ks_2sampResult(statistic=0.17199671996719962, pvalue=0.01065805573851842)\n",
      "Ks_2sampResult(statistic=0.23695308381655239, pvalue=9.6900343454735718e-05)\n"
     ]
    }
   ],
   "source": [
    "print ks_2samp(admin2.gre[admin2.admit == 0],admin2.gre[admin2.admit == 1])\n",
    "print ks_2samp(admin2.gpa[admin2.admit == 0],admin2.gpa[admin2.admit == 1])"
   ]
  },
  {
   "cell_type": "markdown",
   "metadata": {},
   "source": [
    "The p-values are less than 0.05, so the null hypothesis is rejected. The distributions of the rejected and accepted groups are statistically different for both 'gre' and 'gpa'.\n",
    "\n",
    "Student t-tests were performed. Although the distribtions are not normal, the size of each variable may be large enough for the t-test to be used. Since we know that the variances are the same (via Levene's test, see below), the arguments for the t-test were changed accordingly. The null hypothesis states that the means of the two distributions are the same."
   ]
  },
  {
   "cell_type": "code",
   "execution_count": 181,
   "metadata": {
    "collapsed": false
   },
   "outputs": [
    {
     "name": "stdout",
     "output_type": "stream",
     "text": [
      "LeveneResult(statistic=0.023752749753677232, pvalue=0.87759440488177543)\n",
      "LeveneResult(statistic=0.55252684303017385, pvalue=0.45772893786137236)\n",
      "\n",
      "\n",
      "Ttest_indResult(statistic=-3.5141732847816929, pvalue=0.00049220860020320956)\n",
      "Ttest_indResult(statistic=-3.661940006859044, pvalue=0.00028438035728739171)\n"
     ]
    }
   ],
   "source": [
    "#Null hypothesis: variances are the same\n",
    "print levene(admin2.gpa[admin2.admit == 0],admin2.gpa[admin2.admit == 1])\n",
    "print levene(admin2.gre[admin2.admit == 0],admin2.gre[admin2.admit == 1])\n",
    "#p-value > 0.05, accept the null hypothesis. variances are the same\n",
    "\n",
    "print '\\n'\n",
    "print stats.ttest_ind(admin2.gpa[admin2.admit == 0],admin2.gpa[admin2.admit == 1],equal_var=True)\n",
    "print stats.ttest_ind(admin2.gre[admin2.admit == 0],admin2.gre[admin2.admit == 1],equal_var=True)"
   ]
  },
  {
   "cell_type": "markdown",
   "metadata": {},
   "source": [
    "The p-values are less than 0.05, so the null hypothesis is rejected. The means of the admitted and rejected groups are statistically different for both 'gre' and 'gpa'."
   ]
  },
  {
   "cell_type": "markdown",
   "metadata": {},
   "source": [
    "### Part V: Correlations\n",
    "Next, linearity between 'gre' and 'gpa' was examined graphically and quantitatively. Since these two variables are continuous, they are well suited to assess linearity graphically.\n",
    "\n",
    "Visually, 'gre' and 'gpa' are linearly related across the rejected and admitted groups. 'gre' increases with increasing 'gpa'.\n",
    "\n",
    "Quantitatively, 'gre' and 'gpa' are the most correlated variables in the data set."
   ]
  },
  {
   "cell_type": "code",
   "execution_count": 191,
   "metadata": {
    "collapsed": false
   },
   "outputs": [
    {
     "data": {
      "image/png": "[encoded data removed]",
      "text/plain": [
       "<matplotlib.figure.Figure at 0x10f24e10>"
      ]
     },
     "metadata": {},
     "output_type": "display_data"
    }
   ],
   "source": [
    "#Scatter of all applicants\n",
    "plt.scatter(admin2['gpa'],admin2['gre'])\n",
    "plt.ylabel('GRE')\n",
    "plt.xlabel('GPA')\n",
    "plt.title('GRE vs. GPA of All Applicants')\n",
    "plt.show()"
   ]
  },
  {
   "cell_type": "code",
   "execution_count": 192,
   "metadata": {
    "collapsed": false
   },
   "outputs": [
    {
     "data": {
      "image/png": "[encoded data removed]",
      "text/plain": [
       "<matplotlib.figure.Figure at 0x1290e3c8>"
      ]
     },
     "metadata": {},
     "output_type": "display_data"
    }
   ],
   "source": [
    "#Scatter of admitted applicants\n",
    "plt.scatter(admin2.gpa[admin2.admit==1],admin2.gre[admin2.admit==1])\n",
    "plt.ylabel('GRE')\n",
    "plt.xlabel('GPA')\n",
    "plt.title('GRE vs. GPA of Admitted Applicants')\n",
    "plt.show()"
   ]
  },
  {
   "cell_type": "code",
   "execution_count": 193,
   "metadata": {
    "collapsed": false
   },
   "outputs": [
    {
     "data": {
      "image/png": "[encoded data removed]",
      "text/plain": [
       "<matplotlib.figure.Figure at 0x111d5748>"
      ]
     },
     "metadata": {},
     "output_type": "display_data"
    }
   ],
   "source": [
    "#Scatter of rejected applicants\n",
    "plt.scatter(admin2.gpa[admin2.admit==0],admin2.gre[admin2.admit==0])\n",
    "plt.ylabel('GRE')\n",
    "plt.xlabel('GPA')\n",
    "plt.title('GRE vs. GPA of Rejected Applicants')\n",
    "plt.show()"
   ]
  },
  {
   "cell_type": "code",
   "execution_count": 194,
   "metadata": {
    "collapsed": false
   },
   "outputs": [
    {
     "data": {
      "text/html": [
       "<div>\n",
       "<table border=\"1\" class=\"dataframe\">\n",
       "  <thead>\n",
       "    <tr style=\"text-align: right;\">\n",
       "      <th></th>\n",
       "      <th>admit</th>\n",
       "      <th>gre</th>\n",
       "      <th>gpa</th>\n",
       "      <th>prestige</th>\n",
       "    </tr>\n",
       "  </thead>\n",
       "  <tbody>\n",
       "    <tr>\n",
       "      <th>admit</th>\n",
       "      <td>1.000000</td>\n",
       "      <td>0.181202</td>\n",
       "      <td>0.174116</td>\n",
       "      <td>-0.243563</td>\n",
       "    </tr>\n",
       "    <tr>\n",
       "      <th>gre</th>\n",
       "      <td>0.181202</td>\n",
       "      <td>1.000000</td>\n",
       "      <td>0.382408</td>\n",
       "      <td>-0.124533</td>\n",
       "    </tr>\n",
       "    <tr>\n",
       "      <th>gpa</th>\n",
       "      <td>0.174116</td>\n",
       "      <td>0.382408</td>\n",
       "      <td>1.000000</td>\n",
       "      <td>-0.060976</td>\n",
       "    </tr>\n",
       "    <tr>\n",
       "      <th>prestige</th>\n",
       "      <td>-0.243563</td>\n",
       "      <td>-0.124533</td>\n",
       "      <td>-0.060976</td>\n",
       "      <td>1.000000</td>\n",
       "    </tr>\n",
       "  </tbody>\n",
       "</table>\n",
       "</div>"
      ],
      "text/plain": [
       "             admit       gre       gpa  prestige\n",
       "admit     1.000000  0.181202  0.174116 -0.243563\n",
       "gre       0.181202  1.000000  0.382408 -0.124533\n",
       "gpa       0.174116  0.382408  1.000000 -0.060976\n",
       "prestige -0.243563 -0.124533 -0.060976  1.000000"
      ]
     },
     "execution_count": 194,
     "metadata": {},
     "output_type": "execute_result"
    }
   ],
   "source": [
    "#Correlation coefficients across all variables\n",
    "admin2.corr()"
   ]
  },
  {
   "cell_type": "markdown",
   "metadata": {},
   "source": [
    "### Extra: Statistical Analysis, Prestige\n",
    "Earlier, box plots and descriptive statistics suggested the presence of a relationship between the prestige of the undergraduate school and GRE. GRE scores decrease with decreasing undergraduate school rank.\n",
    "\n",
    "Below, the normality of subgroups in 'gre' defined by undergraduate rank was examined. The p-values for all subgroups was less than 0.05, which means the null hypothesis (the distributions are the same) can be rejected. As a consequence, the subgroups are not normally distributed.\n",
    "\n",
    "Histograms of each subgroup along with the statistics above suggest these subgroups are not normally distributed."
   ]
  },
  {
   "cell_type": "code",
   "execution_count": 186,
   "metadata": {
    "collapsed": false
   },
   "outputs": [
    {
     "name": "stdout",
     "output_type": "stream",
     "text": [
      "KstestResult(statistic=1.0, pvalue=0.0)\n",
      "KstestResult(statistic=1.0, pvalue=0.0)\n",
      "KstestResult(statistic=1.0, pvalue=0.0)\n",
      "KstestResult(statistic=1.0, pvalue=0.0)\n"
     ]
    },
    {
     "data": {
      "text/plain": [
       "<matplotlib.text.Text at 0x127ebfd0>"
      ]
     },
     "execution_count": 186,
     "metadata": {},
     "output_type": "execute_result"
    },
    {
     "data": {
      "image/png": "[encoded data removed]",
      "text/plain": [
       "<matplotlib.figure.Figure at 0x1101afd0>"
      ]
     },
     "metadata": {},
     "output_type": "display_data"
    }
   ],
   "source": [
    "print kstest(admin2.gre[admin2.prestige == 1],'norm')\n",
    "print kstest(admin2.gre[admin2.prestige == 2],'norm')\n",
    "print kstest(admin2.gre[admin2.prestige == 3],'norm')\n",
    "print kstest(admin2.gre[admin2.prestige == 4],'norm')\n",
    "\n",
    "plt.subplot(2,2,1)\n",
    "plt.hist(admin2.gre[admin2.prestige == 1])\n",
    "plt.title('Prestige = 1')\n",
    "plt.xlabel('GRE')\n",
    "\n",
    "plt.subplot(2,2,2)\n",
    "plt.hist(admin2.gre[admin2.prestige == 2])\n",
    "plt.title('Prestige = 2')\n",
    "plt.xlabel('GRE')\n",
    "\n",
    "plt.subplot(2,2,3)\n",
    "plt.hist(admin2.gre[admin2.prestige == 3])\n",
    "plt.title('Prestige = 3')\n",
    "plt.xlabel('GRE')\n",
    "\n",
    "plt.subplot(2,2,4)\n",
    "plt.hist(admin2.gre[admin2.prestige == 4])\n",
    "plt.title('Prestige = 4')\n",
    "plt.xlabel('GRE')"
   ]
  },
  {
   "cell_type": "markdown",
   "metadata": {},
   "source": [
    "Next, significance between the distributions of each subgroup across the admitted and rejected classes was examined using two-sample ks-test. The p-value is greater than 0.05, so the null hypothesis cannot be rejected. "
   ]
  },
  {
   "cell_type": "code",
   "execution_count": 187,
   "metadata": {
    "collapsed": false
   },
   "outputs": [
    {
     "name": "stdout",
     "output_type": "stream",
     "text": [
      "1.0\n",
      "0.666871094786\n",
      "0.631026465533\n",
      "0.903703286776\n",
      "0.994927270491\n",
      "0.990579476143\n"
     ]
    },
    {
     "data": {
      "text/plain": [
       "0.99716994129882996"
      ]
     },
     "execution_count": 187,
     "metadata": {},
     "output_type": "execute_result"
    }
   ],
   "source": [
    "#p1 vs. p2-4\n",
    "a = admin2.gre[(admin2.prestige == 1) & (admin2.admit == 1)]\n",
    "for i in range(1,5):\n",
    "    b = admin2.gre[(admin2.prestige == i) & (admin2.admit == 1)]\n",
    "    print ks_2samp(a,b)[1]\n",
    "\n",
    "#p2 vs. p3-4    \n",
    "a = admin2.gre[(admin2.prestige == 2) & (admin2.admit == 1)]\n",
    "for i in range(3,5):\n",
    "    b = admin2.gre[(admin2.prestige == i) & (admin2.admit == 1)]\n",
    "    print ks_2samp(a,b)[1]\n",
    "    \n",
    "#p3 vs. p4\n",
    "a = admin2.gre[(admin2.prestige == 3) & (admin2.admit == 1)]\n",
    "b = admin2.gre[(admin2.prestige == 4) & (admin2.admit == 1)]\n",
    "ks_2samp(a,b)[1]"
   ]
  },
  {
   "cell_type": "markdown",
   "metadata": {},
   "source": [
    "The subgroups are not normal. They are also not large enough to examine using the t-test. Instead, the Mann-Whitney U test was performed to compare the medians of each group where the size of the group was >20 (per the documentation on docs.scipy.org)."
   ]
  },
  {
   "cell_type": "code",
   "execution_count": 188,
   "metadata": {
    "collapsed": false
   },
   "outputs": [
    {
     "name": "stdout",
     "output_type": "stream",
     "text": [
      "Size P1: 33.0\n",
      "Size P2: 53.0\n",
      "Size P3: 28.0\n",
      "Size P4: 12.0\n",
      "MannwhitneyuResult(statistic=544.5, pvalue=0.4974272302724615)\n",
      "MannwhitneyuResult(statistic=801.0, pvalue=0.25790681655547726)\n",
      "MannwhitneyuResult(statistic=415.5, pvalue=0.25210198604997403)\n",
      "MannwhitneyuResult(statistic=738.5, pvalue=0.48808608523967262)\n"
     ]
    }
   ],
   "source": [
    "#Determine size of each subgroup\n",
    "for i in range(1,5):\n",
    "    print 'Size P' + str(i) + ': ' + str(admin2.gre[(admin2.prestige == i) & (admin2.admit == 1)].describe()[0])\n",
    "\n",
    "#Mann-Whitney U test\n",
    "a = admin2.gre[(admin2.prestige == 1) & (admin2.admit == 1)]\n",
    "for i in range(1,4):\n",
    "    b = admin2.gre[(admin2.prestige == i) & (admin2.admit == 1)]\n",
    "    print stats.mannwhitneyu(a,b)\n",
    "    \n",
    "a = admin2.gre[(admin2.prestige == 2) & (admin2.admit == 1)]\n",
    "for i in range(3,4):\n",
    "    b = admin2.gre[(admin2.prestige == i) & (admin2.admit == 1)]\n",
    "    print stats.mannwhitneyu(a,b)"
   ]
  },
  {
   "cell_type": "markdown",
   "metadata": {},
   "source": [
    "The p-value is greater than 0.05 for every median comparison, so the null hypothesis cannot be rejected."
   ]
  },
  {
   "cell_type": "code",
   "execution_count": null,
   "metadata": {
    "collapsed": true
   },
   "outputs": [],
   "source": []
  }
 ],
 "metadata": {
  "anaconda-cloud": {},
  "kernelspec": {
   "display_name": "Python [Root]",
   "language": "python",
   "name": "Python [Root]"
  },
  "language_info": {
   "codemirror_mode": {
    "name": "ipython",
    "version": 2
   },
   "file_extension": ".py",
   "mimetype": "text/x-python",
   "name": "python",
   "nbconvert_exporter": "python",
   "pygments_lexer": "ipython2",
   "version": "2.7.12"
  }
 },
 "nbformat": 4,
 "nbformat_minor": 0
}
